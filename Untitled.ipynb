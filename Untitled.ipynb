{
 "cells": [
  {
   "cell_type": "code",
   "execution_count": null,
   "metadata": {},
   "outputs": [],
   "source": [
    "#!/usr/bin/python\n",
    "\n",
    "import csv   # This will help us reading csv formated files.\n",
    "\n",
    "import random # This will random method\n",
    "\n",
    "load_file= open('affirmati',\"rb\")\n",
    "\n",
    "reader= csv.reader(load_file) #The reader method will put each line\n",
    "                             # of the csv file into a list of columns\n",
    "\n",
    "for row in reader:\n",
    "\n",
    "        from random import shuffle\n",
    "        shuffle(row[2])\n",
    "\n",
    "        print row[2]\n",
    "\n",
    "\n",
    "load_file.close();"
   ]
  }
 ],
 "metadata": {
  "kernelspec": {
   "display_name": "Python 3",
   "language": "python",
   "name": "python3"
  },
  "language_info": {
   "codemirror_mode": {
    "name": "ipython",
    "version": 3
   },
   "file_extension": ".py",
   "mimetype": "text/x-python",
   "name": "python",
   "nbconvert_exporter": "python",
   "pygments_lexer": "ipython3",
   "version": "3.6.4"
  }
 },
 "nbformat": 4,
 "nbformat_minor": 2
}
