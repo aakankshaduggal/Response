{
 "cells": [
  {
   "cell_type": "code",
   "execution_count": 51,
   "metadata": {},
   "outputs": [],
   "source": [
    "import csv\n",
    "import random\n",
    "\n",
    "with open('affirmationdata.csv') as f:\n",
    "    reader = csv.reader(f)\n",
    "    l = list(reader)\n",
    "    chosen_row1 = random.choice(l)[1]\n",
    "    chosen_row2 = random.choice(l)[1]\n",
    "    chosen_row3 = random.choice(l)[1]\n",
    "    \n",
    "neutral = [\"Okay\",\"Alright\",\"Good going\", \"Tell me more\", \"Sounds good\", \"Great\", \"Umhmm\", \"You gotta do what you gotta do\"]"
   ]
  },
  {
   "cell_type": "code",
   "execution_count": 52,
   "metadata": {},
   "outputs": [
    {
     "name": "stdout",
     "output_type": "stream",
     "text": [
      "You're getting stronger everyday\n",
      "The past has no power over you any more\n",
      "You will be a better person today, tomorrow, everyday\n"
     ]
    }
   ],
   "source": []
  },
  {
   "cell_type": "code",
   "execution_count": 53,
   "metadata": {},
   "outputs": [],
   "source": [
    "\"\"\"input data\n",
    "    type of personality: 1=more response,2=moderate,3=light response\n",
    "    sentiment between -1 to 1\n",
    "\"\"\"\n",
    "def generatedRes(persona,sentiment):\n",
    "    if not(sentiment==0):\n",
    "        if(persona==1):\n",
    "            return chosen_row1+\". \"+chosen_row2+\". \"+chosen_row3\n",
    "        elif(persona==2):\n",
    "            return chosen_row1+\". \"+chosen_row2\n",
    "        else:\n",
    "            return chosen_row1\n",
    "    else:\n",
    "        return random.choice(neutral)\n",
    "        "
   ]
  },
  {
   "cell_type": "code",
   "execution_count": 57,
   "metadata": {},
   "outputs": [
    {
     "data": {
      "text/plain": [
       "\"You're getting stronger everyday. The past has no power over you any more. You will be a better person today, tomorrow, everyday\""
      ]
     },
     "execution_count": 57,
     "metadata": {},
     "output_type": "execute_result"
    }
   ],
   "source": []
  },
  {
   "cell_type": "code",
   "execution_count": null,
   "metadata": {},
   "outputs": [],
   "source": []
  }
 ],
 "metadata": {
  "kernelspec": {
   "display_name": "Python 3",
   "language": "python",
   "name": "python3"
  },
  "language_info": {
   "codemirror_mode": {
    "name": "ipython",
    "version": 3
   },
   "file_extension": ".py",
   "mimetype": "text/x-python",
   "name": "python",
   "nbconvert_exporter": "python",
   "pygments_lexer": "ipython3",
   "version": "3.6.4"
  }
 },
 "nbformat": 4,
 "nbformat_minor": 2
}
